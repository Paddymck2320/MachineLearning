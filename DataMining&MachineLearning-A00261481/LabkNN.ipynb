{
 "cells": [
  {
   "cell_type": "code",
   "execution_count": 34,
   "id": "cfeca704",
   "metadata": {},
   "outputs": [
    {
     "name": "stdout",
     "output_type": "stream",
     "text": [
      "Index(['id', 'diagnosis', 'radius_mean', 'texture_mean', 'perimeter_mean',\n",
      "       'area_mean', 'smoothness_mean', 'compactness_mean', 'concavity_mean',\n",
      "       'points_mean', 'symmetry_mean', 'dimension_mean', 'radius_se',\n",
      "       'texture_se', 'perimeter_se', 'area_se', 'smoothness_se',\n",
      "       'compactness_se', 'concavity_se', 'points_se', 'symmetry_se',\n",
      "       'dimension_se', 'radius_worst', 'texture_worst', 'perimeter_worst',\n",
      "       'area_worst', 'smoothness_worst', 'compactness_worst',\n",
      "       'concavity_worst', 'points_worst', 'symmetry_worst', 'dimension_worst'],\n",
      "      dtype='object')\n",
      "B    357\n",
      "M    212\n",
      "Name: diagnosis, dtype: int64\n",
      "Mean of area_mean 654.8891036906854\n",
      "Mean of radius_mean 14.127291739894558\n",
      "Mean of smoothness_mean 0.09636028119507911\n"
     ]
    }
   ],
   "source": [
    "import numpy as np\n",
    "import pandas as pd\n",
    "from sklearn.neighbors import KNeighborsClassifier\n",
    "from sklearn.model_selection import train_test_split\n",
    "from sklearn.metrics import confusion_matrix\n",
    "from sklearn.preprocessing import MinMaxScaler\n",
    "from sklearn.preprocessing import StandardScaler\n",
    "from sklearn import neighbors\n",
    "df = pd.read_csv('data/wbcd.csv')\n",
    "print(df.columns)\n",
    "print(df.diagnosis.value_counts())\n",
    "# print(df.head())\n",
    "# print(df.area_mean.describe())\n",
    "print('Mean of area_mean', df.area_mean.mean())\n",
    "print('Mean of radius_mean', df.radius_mean.mean())\n",
    "print('Mean of smoothness_mean', df.smoothness_mean.mean())\n",
    "X = df.drop(['id', 'diagnosis'], axis='columns')\n",
    "y = df.diagnosis"
   ]
  },
  {
   "cell_type": "code",
   "execution_count": 35,
   "id": "a2d2a1aa",
   "metadata": {},
   "outputs": [
    {
     "data": {
      "text/plain": [
       "KNeighborsClassifier()"
      ]
     },
     "execution_count": 35,
     "metadata": {},
     "output_type": "execute_result"
    }
   ],
   "source": [
    "X = df.drop(['id', 'diagnosis'], axis='columns')\n",
    "y = df.diagnosis\n",
    "X_train, X_test, y_train, y_test = train_test_split(X, y, test_size=0.2, random_state=5)\n",
    "clf = KNeighborsClassifier()\n",
    "clf.fit(X_train, y_train)"
   ]
  },
  {
   "cell_type": "code",
   "execution_count": 36,
   "id": "d193bad9",
   "metadata": {},
   "outputs": [
    {
     "name": "stdout",
     "output_type": "stream",
     "text": [
      "Accuracy 0.9473684210526315\n",
      "[[72  0]\n",
      " [ 6 36]]\n",
      "72 0 6 36\n",
      "0.9473684210526315\n"
     ]
    }
   ],
   "source": [
    "print('Accuracy', clf.score(X_test, y_test))\n",
    "yPredict = clf.predict(X_test)\n",
    "cm = confusion_matrix(y_test, yPredict, labels=['B','M'])\n",
    "tn, fp, fn, tp = cm.ravel()\n",
    "print(cm)\n",
    "print(tn, fp, fn, tp)\n",
    "print( (tn + tp) / (tn + tp + fn + fp) )"
   ]
  },
  {
   "cell_type": "code",
   "execution_count": 37,
   "id": "db9c589b",
   "metadata": {},
   "outputs": [
    {
     "data": {
      "text/plain": [
       "KNeighborsClassifier()"
      ]
     },
     "execution_count": 37,
     "metadata": {},
     "output_type": "execute_result"
    }
   ],
   "source": [
    "##Question 2\n",
    "scaler = MinMaxScaler()\n",
    "scaler.fit(X_train)\n",
    "X_train = scaler.transform(X_train)\n",
    "X_test = scaler.transform(X_test)\n",
    "clf = KNeighborsClassifier()\n",
    "clf.fit(X_train, y_train)"
   ]
  },
  {
   "cell_type": "code",
   "execution_count": 38,
   "id": "3b482840",
   "metadata": {},
   "outputs": [
    {
     "name": "stdout",
     "output_type": "stream",
     "text": [
      "Accuracy 1.0\n",
      "[[72  0]\n",
      " [ 0 42]]\n",
      "72 0 0 42\n",
      "1.0\n"
     ]
    }
   ],
   "source": [
    "print('Accuracy', clf.score(X_test, y_test))\n",
    "yPredict = clf.predict(X_test)\n",
    "cm = confusion_matrix(y_test, yPredict, labels=['B','M'])\n",
    "tn, fp, fn, tp = cm.ravel()\n",
    "print(cm)\n",
    "print(tn, fp, fn, tp)\n",
    "print( (tn + tp) / (tn + tp + fn + fp) )"
   ]
  },
  {
   "cell_type": "code",
   "execution_count": 39,
   "id": "7c570f94",
   "metadata": {},
   "outputs": [
    {
     "data": {
      "text/plain": [
       "KNeighborsClassifier()"
      ]
     },
     "execution_count": 39,
     "metadata": {},
     "output_type": "execute_result"
    }
   ],
   "source": [
    "scaler = StandardScaler()\n",
    "scaler.fit(X_train)\n",
    "X_train = scaler.transform(X_train)\n",
    "X_test = scaler.transform(X_test)\n",
    "clf = KNeighborsClassifier()\n",
    "clf.fit(X_train, y_train)"
   ]
  },
  {
   "cell_type": "code",
   "execution_count": 40,
   "id": "1c2e812b",
   "metadata": {},
   "outputs": [
    {
     "name": "stdout",
     "output_type": "stream",
     "text": [
      "Accuracy of k 0.9824561403508771\n",
      "[[71  1]\n",
      " [ 1 41]]\n",
      "71 1 1 41\n",
      "0.9824561403508771\n"
     ]
    }
   ],
   "source": [
    "print('Accuracy of k', clf.score(X_test, y_test))\n",
    "yPredict = clf.predict(X_test)\n",
    "cm = confusion_matrix(y_test, yPredict, labels=['B','M'])\n",
    "tn, fp, fn, tp = cm.ravel()\n",
    "print(cm)\n",
    "print(tn, fp, fn, tp)\n",
    "print( (tn + tp) / (tn + tp + fn + fp) )"
   ]
  },
  {
   "cell_type": "code",
   "execution_count": 43,
   "id": "ab45a63f",
   "metadata": {},
   "outputs": [
    {
     "name": "stdout",
     "output_type": "stream",
     "text": [
      "k nearest neighbours value of  1\n",
      "Training set accuracy:  1.0\n",
      "Test set accuracy:  0.956140350877193\n",
      "k nearest neighbours value of  2\n",
      "Training set accuracy:  0.967032967032967\n",
      "Test set accuracy:  0.956140350877193\n",
      "k nearest neighbours value of  3\n",
      "Training set accuracy:  0.9736263736263736\n",
      "Test set accuracy:  0.9824561403508771\n",
      "k nearest neighbours value of  4\n",
      "Training set accuracy:  0.9648351648351648\n",
      "Test set accuracy:  0.956140350877193\n",
      "k nearest neighbours value of  5\n",
      "Training set accuracy:  0.9648351648351648\n",
      "Test set accuracy:  0.9824561403508771\n",
      "k nearest neighbours value of  6\n",
      "Training set accuracy:  0.9582417582417583\n",
      "Test set accuracy:  0.9649122807017544\n",
      "k nearest neighbours value of  7\n",
      "Training set accuracy:  0.9626373626373627\n",
      "Test set accuracy:  0.9912280701754386\n",
      "k nearest neighbours value of  8\n",
      "Training set accuracy:  0.9604395604395605\n",
      "Test set accuracy:  0.956140350877193\n",
      "k nearest neighbours value of  9\n",
      "Training set accuracy:  0.9604395604395605\n",
      "Test set accuracy:  0.9736842105263158\n",
      "k nearest neighbours value of  10\n",
      "Training set accuracy:  0.9582417582417583\n",
      "Test set accuracy:  0.956140350877193\n"
     ]
    }
   ],
   "source": [
    "#Question 3\n",
    "\n",
    "training_accuracy = []\n",
    "test_accuracy = []\n",
    "# try n_neighbors from 1 to 10\n",
    "neighbours = range(1, 11)\n",
    "for k in neighbours:\n",
    " # build the model\n",
    " clf = neighbors.KNeighborsClassifier(n_neighbors=k)\n",
    " clf.fit(X_train, y_train)\n",
    " print(\"k nearest neighbours value of \", k)\n",
    " # record training set accuracy\n",
    " training_accuracy.append(clf.score(X_train, y_train))\n",
    " print(\"Training set accuracy: \", clf.score(X_train, y_train))\n",
    " # record generalization accuracy\n",
    " test_accuracy.append(clf.score(X_test, y_test))\n",
    " print(\"Test set accuracy: \", clf.score(X_test, y_test))"
   ]
  },
  {
   "cell_type": "code",
   "execution_count": null,
   "id": "9bc066bd",
   "metadata": {},
   "outputs": [],
   "source": []
  }
 ],
 "metadata": {
  "kernelspec": {
   "display_name": "Python 3 (ipykernel)",
   "language": "python",
   "name": "python3"
  },
  "language_info": {
   "codemirror_mode": {
    "name": "ipython",
    "version": 3
   },
   "file_extension": ".py",
   "mimetype": "text/x-python",
   "name": "python",
   "nbconvert_exporter": "python",
   "pygments_lexer": "ipython3",
   "version": "3.8.11"
  }
 },
 "nbformat": 4,
 "nbformat_minor": 5
}
