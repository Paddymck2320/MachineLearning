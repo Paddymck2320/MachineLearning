{
 "cells": [
  {
   "cell_type": "code",
   "execution_count": 1,
   "id": "61ef36d9",
   "metadata": {},
   "outputs": [
    {
     "name": "stdout",
     "output_type": "stream",
     "text": [
      "<class 'pandas.core.frame.DataFrame'>\n",
      "   AirFlow  WaterTemp  AcidConc  StackLoss\n",
      "0       80         27        89         42\n",
      "1       80         27        88         37\n",
      "2       75         25        90         37\n",
      "3       62         24        87         28\n",
      "4       62         22        87         18\n"
     ]
    }
   ],
   "source": [
    "# https://pandas.pydata.org/pandas-docs/stable/reference/api/pandas.read_csv.html\n",
    "# https://pandas.pydata.org/pandas-docs/stable/reference/api/pandas.DataFrame.html\n",
    "\n",
    "import pandas as pd\n",
    "from pandas.plotting import scatter_matrix\n",
    "import matplotlib.pyplot as plt\n",
    "\n",
    "\n",
    "stacklossDF = pd.read_csv(\"data/stackloss.csv\")\n",
    "print(type(stacklossDF))\n",
    "print(stacklossDF.head())"
   ]
  },
  {
   "cell_type": "code",
   "execution_count": 2,
   "id": "c1ef4e2a",
   "metadata": {},
   "outputs": [
    {
     "name": "stdout",
     "output_type": "stream",
     "text": [
      "         AirFlow  WaterTemp   AcidConc  StackLoss\n",
      "count  21.000000  21.000000  21.000000  21.000000\n",
      "mean   60.428571  21.095238  86.285714  17.523810\n",
      "std     9.168268   3.160771   5.358571  10.171623\n",
      "min    50.000000  17.000000  72.000000   7.000000\n",
      "25%    56.000000  18.000000  82.000000  11.000000\n",
      "50%    58.000000  20.000000  87.000000  15.000000\n",
      "75%    62.000000  24.000000  89.000000  19.000000\n",
      "max    80.000000  27.000000  93.000000  42.000000\n"
     ]
    }
   ],
   "source": [
    "print(stacklossDF.describe())"
   ]
  },
  {
   "cell_type": "code",
   "execution_count": 3,
   "id": "979e6b4d",
   "metadata": {},
   "outputs": [
    {
     "name": "stdout",
     "output_type": "stream",
     "text": [
      "            AirFlow  WaterTemp  AcidConc  StackLoss\n",
      "AirFlow    1.000000   0.781852  0.500143   0.919663\n",
      "WaterTemp  0.781852   1.000000  0.390940   0.875504\n",
      "AcidConc   0.500143   0.390940  1.000000   0.399830\n",
      "StackLoss  0.919663   0.875504  0.399830   1.000000\n"
     ]
    }
   ],
   "source": [
    "print(stacklossDF.corr())"
   ]
  },
  {
   "cell_type": "code",
   "execution_count": 4,
   "id": "63288c58",
   "metadata": {},
   "outputs": [
    {
     "data": {
      "text/plain": [
       "array([[<AxesSubplot:title={'center':'AirFlow'}>,\n",
       "        <AxesSubplot:title={'center':'WaterTemp'}>],\n",
       "       [<AxesSubplot:title={'center':'AcidConc'}>,\n",
       "        <AxesSubplot:title={'center':'StackLoss'}>]], dtype=object)"
      ]
     },
     "execution_count": 4,
     "metadata": {},
     "output_type": "execute_result"
    },
    {
     "data": {
      "image/png": "[encoded data removed]",
      "text/plain": [
       "<Figure size 432x288 with 4 Axes>"
      ]
     },
     "metadata": {
      "needs_background": "light"
     },
     "output_type": "display_data"
    }
   ],
   "source": [
    "stacklossDF.hist()"
   ]
  },
  {
   "cell_type": "code",
   "execution_count": null,
   "id": "55f8f1f6",
   "metadata": {},
   "outputs": [],
   "source": [
    "plt.show()\n",
    "# plt.savefig('plots/p3stacklossHist.png')"
   ]
  },
  {
   "cell_type": "code",
   "execution_count": null,
   "id": "9b35ce4e",
   "metadata": {},
   "outputs": [],
   "source": [
    "# print(scatter_matrix(stacklossDF, alpha=0.2, figsize=(10, 10)))\n",
    "scatter_matrix(stacklossDF)\n",
    "plt.show()\n",
    "# plt.savefig('plots/p3stacklossScatter.png')"
   ]
  },
  {
   "cell_type": "code",
   "execution_count": null,
   "id": "7c1e77e2",
   "metadata": {},
   "outputs": [],
   "source": []
  }
 ],
 "metadata": {
  "kernelspec": {
   "display_name": "Python 3 (ipykernel)",
   "language": "python",
   "name": "python3"
  },
  "language_info": {
   "codemirror_mode": {
    "name": "ipython",
    "version": 3
   },
   "file_extension": ".py",
   "mimetype": "text/x-python",
   "name": "python",
   "nbconvert_exporter": "python",
   "pygments_lexer": "ipython3",
   "version": "3.9.7"
  }
 },
 "nbformat": 4,
 "nbformat_minor": 5
}
