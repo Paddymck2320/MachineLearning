{
 "cells": [
  {
   "cell_type": "code",
   "execution_count": 3,
   "id": "1aa5ad7d",
   "metadata": {},
   "outputs": [],
   "source": [
    "import pandas as pd\n",
    "\n",
    "import numpy as np\n",
    "\n",
    "from sklearn.metrics import confusion_matrix"
   ]
  },
  {
   "cell_type": "code",
   "execution_count": 6,
   "id": "013843d5",
   "metadata": {},
   "outputs": [
    {
     "name": "stdout",
     "output_type": "stream",
     "text": [
      "[14]\n",
      "[[ 5  6  7  8]\n",
      " [ 9 10 11 12]]\n",
      "[[[21 22 23 24]\n",
      "  [25 26 27 28]\n",
      "  [29 30 31 32]]]\n"
     ]
    }
   ],
   "source": [
    "one_d = np.array([12, 3, 6, 14])\n",
    "two_d = np.array([ [1, 2, 3, 4],[5, 6, 7, 8],[9, 10, 11, 12] ])\n",
    "three_d = np.array([[[1, 2, 3, 4], [5, 6, 7, 8], [9, 10, 11, 12]],[[21, 22, 23, 24], [25, 26, 27, 28], [29, 30, 31, 32]]])\n",
    "\n",
    "print(one_d[3:4])\n",
    "print(two_d[1:5])\n",
    "print(three_d[1:3:4])"
   ]
  },
  {
   "cell_type": "code",
   "execution_count": 12,
   "id": "ea912798",
   "metadata": {},
   "outputs": [
    {
     "name": "stdout",
     "output_type": "stream",
     "text": [
      "[[ 0  1  2  3  4  5]\n",
      " [ 6  7  8  9 10 11]]\n"
     ]
    }
   ],
   "source": [
    "arr = np.array([0, 1, 2, 3, 4, 5, 6, 7, 8, 9, 10, 11])\n",
    "b = arr.reshape(2, -2)\n",
    "print(b)"
   ]
  },
  {
   "cell_type": "code",
   "execution_count": 13,
   "id": "53b02f7e",
   "metadata": {},
   "outputs": [
    {
     "name": "stdout",
     "output_type": "stream",
     "text": [
      "<class 'pandas.core.frame.DataFrame'>\n"
     ]
    }
   ],
   "source": [
    "df = pd.read_csv('data/iris.csv')\n",
    "print(type(df))"
   ]
  },
  {
   "cell_type": "code",
   "execution_count": 14,
   "id": "5d1327cd",
   "metadata": {},
   "outputs": [
    {
     "name": "stdout",
     "output_type": "stream",
     "text": [
      "   sepal_length  sepal_width  petal_length  petal_width species\n",
      "0           5.1          3.5           1.4          0.2  setosa\n",
      "1           4.9          3.0           1.4          0.2  setosa\n",
      "2           4.7          3.2           1.3          0.2  setosa\n",
      "3           4.6          3.1           1.5          0.2  setosa\n",
      "4           5.0          3.6           1.4          0.2  setosa\n",
      "Index(['sepal_length', 'sepal_width', 'petal_length', 'petal_width',\n",
      "       'species'],\n",
      "      dtype='object')\n",
      "(150, 5)\n",
      "RangeIndex(start=0, stop=150, step=1)\n"
     ]
    }
   ],
   "source": [
    "print(df.head())\n",
    "print(df.columns)\n",
    "print(df.shape)\n",
    "print(df.index)"
   ]
  },
  {
   "cell_type": "code",
   "execution_count": null,
   "id": "50c03d31",
   "metadata": {},
   "outputs": [],
   "source": []
  }
 ],
 "metadata": {
  "kernelspec": {
   "display_name": "Python 3 (ipykernel)",
   "language": "python",
   "name": "python3"
  },
  "language_info": {
   "codemirror_mode": {
    "name": "ipython",
    "version": 3
   },
   "file_extension": ".py",
   "mimetype": "text/x-python",
   "name": "python",
   "nbconvert_exporter": "python",
   "pygments_lexer": "ipython3",
   "version": "3.8.11"
  }
 },
 "nbformat": 4,
 "nbformat_minor": 5
}
