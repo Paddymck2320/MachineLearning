{
 "cells": [
  {
   "cell_type": "code",
   "execution_count": 1,
   "id": "b9a85e71",
   "metadata": {},
   "outputs": [
    {
     "name": "stdout",
     "output_type": "stream",
     "text": [
      "Index(['sepal_length', 'sepal_width', 'petal_length', 'petal_width',\n",
      "       'species'],\n",
      "      dtype='object')\n"
     ]
    }
   ],
   "source": [
    "from sklearn.datasets import load_iris\n",
    "from sklearn.linear_model import LinearRegression\n",
    "import matplotlib.pyplot as plt\n",
    "\n",
    "import pandas as pd\n",
    "\n",
    "df = pd.read_csv('data/iris.csv')\n",
    "print(df.columns)\n"
   ]
  },
  {
   "cell_type": "code",
   "execution_count": 2,
   "id": "76d10326",
   "metadata": {},
   "outputs": [],
   "source": [
    "# X = df[[\"sepal_length\",\"sepal_width\",\"petal_length\",\"petal_width\"]]\n",
    "# y = df[\"species\"]"
   ]
  },
  {
   "cell_type": "code",
   "execution_count": 3,
   "id": "b8471888",
   "metadata": {},
   "outputs": [
    {
     "name": "stdout",
     "output_type": "stream",
     "text": [
      "y.shape (150,)\n",
      "x.shape (150, 1)\n"
     ]
    }
   ],
   "source": [
    "# predict petal_length using petal_width\n",
    "y = df[\"petal_length\"]\n",
    "print(\"y.shape\", y.shape)\n",
    "X = df[[\"petal_width\"]]\n",
    "print(\"x.shape\", X.shape)"
   ]
  },
  {
   "cell_type": "code",
   "execution_count": 4,
   "id": "aca4ae15",
   "metadata": {},
   "outputs": [
    {
     "name": "stdout",
     "output_type": "stream",
     "text": [
      "[2.22588531]\n",
      "1.090572145877378\n",
      "R squared 0.9269012279220037\n"
     ]
    }
   ],
   "source": [
    "model = LinearRegression()\n",
    "model.fit(X,y)\n",
    "print(model.coef_)\n",
    "print(model.intercept_)\n",
    "rSquared = model.score(X,y)\n",
    "print('R squared', rSquared)"
   ]
  },
  {
   "cell_type": "code",
   "execution_count": 5,
   "id": "212b5eb5",
   "metadata": {},
   "outputs": [
    {
     "data": {
      "image/png": "[encoded data removed]",
      "text/plain": [
       "<Figure size 432x288 with 1 Axes>"
      ]
     },
     "metadata": {
      "needs_background": "light"
     },
     "output_type": "display_data"
    }
   ],
   "source": [
    "plt.scatter(X, y, color='black')\n",
    "plt.ylabel(\"petal length\")\n",
    "plt.xlabel(\"petal width\")\n",
    "plt.show()"
   ]
  },
  {
   "cell_type": "code",
   "execution_count": 6,
   "id": "73a7b8c0",
   "metadata": {},
   "outputs": [
    {
     "name": "stdout",
     "output_type": "stream",
     "text": [
      "[-1.71120139]\n",
      "8.984675705456354\n",
      "R squared 0.17683378733246502\n"
     ]
    }
   ],
   "source": [
    "# predict petal_length using sepal_width\n",
    "X = df[[\"sepal_width\"]]\n",
    "model.fit(X,y)\n",
    "print(model.coef_)\n",
    "print(model.intercept_)\n",
    "rSquared = model.score(X,y)\n",
    "print('R squared', rSquared)"
   ]
  },
  {
   "cell_type": "code",
   "execution_count": 7,
   "id": "d5dd9f5c",
   "metadata": {},
   "outputs": [
    {
     "data": {
      "image/png": "[encoded data removed]",
      "text/plain": [
       "<Figure size 432x288 with 1 Axes>"
      ]
     },
     "metadata": {
      "needs_background": "light"
     },
     "output_type": "display_data"
    }
   ],
   "source": [
    "plt.scatter(X, y, color='black')\n",
    "plt.ylabel(\"petal length\")\n",
    "plt.xlabel(\"petal width\")\n",
    "plt.show()"
   ]
  },
  {
   "cell_type": "code",
   "execution_count": null,
   "id": "68aa9092",
   "metadata": {},
   "outputs": [],
   "source": []
  }
 ],
 "metadata": {
  "kernelspec": {
   "display_name": "Python 3 (ipykernel)",
   "language": "python",
   "name": "python3"
  },
  "language_info": {
   "codemirror_mode": {
    "name": "ipython",
    "version": 3
   },
   "file_extension": ".py",
   "mimetype": "text/x-python",
   "name": "python",
   "nbconvert_exporter": "python",
   "pygments_lexer": "ipython3",
   "version": "3.9.7"
  }
 },
 "nbformat": 4,
 "nbformat_minor": 5
}
