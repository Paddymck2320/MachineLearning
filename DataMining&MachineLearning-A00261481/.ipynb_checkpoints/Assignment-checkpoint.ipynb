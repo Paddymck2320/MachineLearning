{
 "cells": [
  {
   "cell_type": "code",
   "execution_count": 16,
   "id": "e5da6beb",
   "metadata": {},
   "outputs": [
    {
     "name": "stdout",
     "output_type": "stream",
     "text": [
      "<class 'pandas.core.frame.DataFrame'>\n",
      "   day  month  year  Temperature   RH   Ws  Rain   FFMC  DMC    DC  ISI  BUI  \\\n",
      "0    1      6  2012           29   57   18    0.0  65.7  3.4   7.6  1.3  3.4   \n",
      "1    2      6  2012           29   61   13    1.3  64.4  4.1   7.6  1.0  3.9   \n",
      "2    3      6  2012           26   82   22   13.1  47.1  2.5   7.1  0.3  2.7   \n",
      "3    4      6  2012           25   89   13    2.5  28.6  1.3   6.9  0.0  1.7   \n",
      "4    5      6  2012           27   77   16    0.0  64.8  3.0  14.2  1.2  3.9   \n",
      "\n",
      "   FWI    Classes    \n",
      "0  0.5  not fire     \n",
      "1  0.4  not fire     \n",
      "2  0.1  not fire     \n",
      "3    0  not fire     \n",
      "4  0.5  not fire     \n"
     ]
    }
   ],
   "source": [
    "from sklearn.datasets import load_iris\n",
    "from sklearn.linear_model import LinearRegression\n",
    "import matplotlib.pyplot as plt\n",
    "\n",
    "import pandas as pd\n",
    "\n",
    "df = pd.read_csv('data/Algerian_forest_fires_dataset_UPDATE.csv')\n",
    "print(type(df))\n",
    "print(df.head())"
   ]
  },
  {
   "cell_type": "code",
   "execution_count": 14,
   "id": "7d067597",
   "metadata": {},
   "outputs": [
    {
     "name": "stdout",
     "output_type": "stream",
     "text": [
      "y.shape (244,)\n",
      "x.shape (244, 1)\n"
     ]
    }
   ],
   "source": [
    "y = df[\"Temperature\"]\n",
    "print(\"y.shape\", y.shape)\n",
    "X = df[[\"Rain \"]]\n",
    "print(\"x.shape\", X.shape)"
   ]
  },
  {
   "cell_type": "code",
   "execution_count": 15,
   "id": "49a9272a",
   "metadata": {},
   "outputs": [
    {
     "name": "stdout",
     "output_type": "stream",
     "text": [
      "[-0.59392042]\n",
      "32.623900125487786\n",
      "R squared 0.10678885535993943\n"
     ]
    }
   ],
   "source": [
    "model = LinearRegression()\n",
    "model.fit(X,y)\n",
    "print(model.coef_)\n",
    "print(model.intercept_)\n",
    "rSquared = model.score(X,y)\n",
    "print('R squared', rSquared)"
   ]
  },
  {
   "cell_type": "code",
   "execution_count": null,
   "id": "9a291700",
   "metadata": {},
   "outputs": [],
   "source": []
  }
 ],
 "metadata": {
  "kernelspec": {
   "display_name": "Python 3 (ipykernel)",
   "language": "python",
   "name": "python3"
  },
  "language_info": {
   "codemirror_mode": {
    "name": "ipython",
    "version": 3
   },
   "file_extension": ".py",
   "mimetype": "text/x-python",
   "name": "python",
   "nbconvert_exporter": "python",
   "pygments_lexer": "ipython3",
   "version": "3.9.7"
  }
 },
 "nbformat": 4,
 "nbformat_minor": 5
}
